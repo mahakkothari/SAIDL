{
  "nbformat": 4,
  "nbformat_minor": 0,
  "metadata": {
    "colab": {
      "name": "AudioMnistPytorch.ipynb",
      "version": "0.3.2",
      "provenance": [],
      "collapsed_sections": [],
      "machine_shape": "hm"
    },
    "kernelspec": {
      "name": "python3",
      "display_name": "Python 3"
    },
    "accelerator": "GPU"
  },
  "cells": [
    {
      "cell_type": "code",
      "metadata": {
        "id": "dSPMNM72YF6C",
        "colab_type": "code",
        "outputId": "57967472-234b-47a7-d921-d891b3c57b85",
        "colab": {
          "base_uri": "https://localhost:8080/",
          "height": 125
        }
      },
      "source": [
        "from google.colab import drive\n",
        "drive.mount('/content/drive')"
      ],
      "execution_count": 1,
      "outputs": [
        {
          "output_type": "stream",
          "text": [
            "Go to this URL in a browser: https://accounts.google.com/o/oauth2/auth?client_id=947318989803-6bn6qk8qdgf4n4g3pfee6491hc0brc4i.apps.googleusercontent.com&redirect_uri=urn%3Aietf%3Awg%3Aoauth%3A2.0%3Aoob&scope=email%20https%3A%2F%2Fwww.googleapis.com%2Fauth%2Fdocs.test%20https%3A%2F%2Fwww.googleapis.com%2Fauth%2Fdrive%20https%3A%2F%2Fwww.googleapis.com%2Fauth%2Fdrive.photos.readonly%20https%3A%2F%2Fwww.googleapis.com%2Fauth%2Fpeopleapi.readonly&response_type=code\n",
            "\n",
            "Enter your authorization code:\n",
            "··········\n",
            "Mounted at /content/drive\n"
          ],
          "name": "stdout"
        }
      ]
    },
    {
      "cell_type": "code",
      "metadata": {
        "id": "omGqLLQbYGYc",
        "colab_type": "code",
        "colab": {}
      },
      "source": [
        "import pandas as pd\n",
        "import numpy as np\n",
        "import os\n",
        "import torch\n",
        "#import torchvision\n",
        "from torch.utils.data import DataLoader\n",
        "#from torchvision import transforms\n",
        "from torch.utils.data import Dataset,SubsetRandomSampler,Sampler\n",
        "import matplotlib.pyplot as plt\n",
        "from torch import nn\n",
        "import torch.nn.functional as F\n",
        "from torch import optim\n",
        "import glob\n",
        "from skimage import io, transform\n",
        "from PIL import Image\n",
        "import random\n",
        "import PIL.ImageEnhance as ie\n",
        "import copy\n",
        "from torch.autograd import Variable\n",
        "import PIL.Image as im\n",
        "from math import floor\n",
        "%matplotlib inline \n",
        "import librosa\n"
      ],
      "execution_count": 0,
      "outputs": []
    },
    {
      "cell_type": "code",
      "metadata": {
        "id": "_GycN2VzbRzK",
        "colab_type": "code",
        "outputId": "796bc3f9-af38-4e83-af6c-22bdd32ae477",
        "colab": {
          "base_uri": "https://localhost:8080/",
          "height": 70
        }
      },
      "source": [
        "!pip3 install torchaudio"
      ],
      "execution_count": 2,
      "outputs": [
        {
          "output_type": "stream",
          "text": [
            "Requirement already satisfied: torchaudio in /usr/local/lib/python3.6/dist-packages (0.3.0)\n",
            "Requirement already satisfied: torch==1.2.0 in /usr/local/lib/python3.6/dist-packages (from torchaudio) (1.2.0)\n",
            "Requirement already satisfied: numpy in /usr/local/lib/python3.6/dist-packages (from torch==1.2.0->torchaudio) (1.16.5)\n"
          ],
          "name": "stdout"
        }
      ]
    },
    {
      "cell_type": "code",
      "metadata": {
        "id": "Lvj3oEZ4YPny",
        "colab_type": "code",
        "outputId": "fd6bd4a7-9e7f-4afd-e3ee-99b821ce5c2e",
        "colab": {
          "base_uri": "https://localhost:8080/",
          "height": 340
        }
      },
      "source": [
        "import torchaudio\n",
        "import matplotlib.pyplot as plt\n",
        "from torch import nn\n",
        "filename = \"../content/drive/My Drive/winter_assignment/audio-mnist-with-person-detection-master/recordings/0_jackson_1.wav\"\n",
        "waveform, sample_rate = torchaudio.load(filename)\n",
        "\n",
        "print(\"Shape of waveform: {}\".format(waveform.size()))\n",
        "print(\"Sample rate of waveform: {}\".format(sample_rate))\n",
        "print(type(waveform))\n",
        "\n",
        "plt.figure()\n",
        "plt.plot(waveform.t().numpy())"
      ],
      "execution_count": 3,
      "outputs": [
        {
          "output_type": "stream",
          "text": [
            "Shape of waveform: torch.Size([1, 4261])\n",
            "Sample rate of waveform: 8000\n",
            "<class 'torch.Tensor'>\n"
          ],
          "name": "stdout"
        },
        {
          "output_type": "execute_result",
          "data": {
            "text/plain": [
              "[<matplotlib.lines.Line2D at 0x7fb8bd8decf8>]"
            ]
          },
          "metadata": {
            "tags": []
          },
          "execution_count": 3
        },
        {
          "output_type": "display_data",
          "data": {
            "image/png": "[encoded data removed]",
            "text/plain": [
              "<Figure size 432x288 with 1 Axes>"
            ]
          },
          "metadata": {
            "tags": []
          }
        }
      ]
    },
    {
      "cell_type": "code",
      "metadata": {
        "id": "PTSK857jbWr9",
        "colab_type": "code",
        "colab": {}
      },
      "source": [
        ""
      ],
      "execution_count": 0,
      "outputs": []
    },
    {
      "cell_type": "code",
      "metadata": {
        "id": "iKorT7JycWgS",
        "colab_type": "code",
        "outputId": "e308bb31-b0d2-4940-a65f-ff89a2c31906",
        "colab": {
          "base_uri": "https://localhost:8080/",
          "height": 322
        }
      },
      "source": [
        "specgram = torchaudio.transforms.Spectrogram()(waveform)\n",
        "print(type(specgram))\n",
        "print(\"Shape of spectrogram: {}\".format(specgram.size()))\n",
        "\n",
        "plt.figure()\n",
        "plt.imshow(specgram.log2()[0,:,:].numpy(), cmap='gray')"
      ],
      "execution_count": 5,
      "outputs": [
        {
          "output_type": "stream",
          "text": [
            "<class 'torch.Tensor'>\n",
            "Shape of spectrogram: torch.Size([1, 201, 22])\n"
          ],
          "name": "stdout"
        },
        {
          "output_type": "execute_result",
          "data": {
            "text/plain": [
              "<matplotlib.image.AxesImage at 0x7fb8ba069ef0>"
            ]
          },
          "metadata": {
            "tags": []
          },
          "execution_count": 5
        },
        {
          "output_type": "display_data",
          "data": {
            "image/png": "[encoded data removed]",
            "text/plain": [
              "<Figure size 432x288 with 1 Axes>"
            ]
          },
          "metadata": {
            "tags": []
          }
        }
      ]
    },
    {
      "cell_type": "code",
      "metadata": {
        "id": "XpvaB2urc5JO",
        "colab_type": "code",
        "outputId": "a0b8a54f-de53-4c3a-e504-ef5ffc6f598d",
        "colab": {
          "base_uri": "https://localhost:8080/",
          "height": 286
        }
      },
      "source": [
        "specgram = torchaudio.transforms.MelSpectrogram()(waveform)\n",
        "specgram = specgram[ : , :120 , :20]\n",
        "\n",
        "print(\"Shape of spectrogram: {}\".format(specgram.size()))\n",
        "\n",
        "plt.figure()\n",
        "p = plt.imshow(specgram.log2()[0,:,:].detach().numpy(), cmap='gray')"
      ],
      "execution_count": 6,
      "outputs": [
        {
          "output_type": "stream",
          "text": [
            "Shape of spectrogram: torch.Size([1, 120, 20])\n"
          ],
          "name": "stdout"
        },
        {
          "output_type": "display_data",
          "data": {
            "image/png": "[encoded data removed]",
            "text/plain": [
              "<Figure size 432x288 with 1 Axes>"
            ]
          },
          "metadata": {
            "tags": []
          }
        }
      ]
    },
    {
      "cell_type": "code",
      "metadata": {
        "id": "KaJ1XEpEmeTn",
        "colab_type": "code",
        "colab": {}
      },
      "source": [
        ""
      ],
      "execution_count": 0,
      "outputs": []
    },
    {
      "cell_type": "code",
      "metadata": {
        "id": "fP54lLPjc9Ea",
        "colab_type": "code",
        "colab": {}
      },
      "source": [
        "def extract_name_digit(file):\n",
        "    parts = file.split(\"_\")\n",
        "    digit = int(parts[0])\n",
        "    name = parts[1]\n",
        "    if PEOPLE.get(name) == None:\n",
        "        name = \"other\"\n",
        "        \n",
        "    return name, digit"
      ],
      "execution_count": 0,
      "outputs": []
    },
    {
      "cell_type": "code",
      "metadata": {
        "id": "2s_1uCUidapV",
        "colab_type": "code",
        "colab": {}
      },
      "source": [
        "def wav_info_extractor(dirpath, ext):\n",
        "    path = \"../content/drive/My Drive/winter_assignment/audio-mnist-with-person-detection-master/\" + dirpath\n",
        "    mfcc_vectors = []\n",
        "    label_vectors = []\n",
        "    digit_vectors = []\n",
        "    file_vectors = []\n",
        "    for file in os.listdir(path):\n",
        "        if file.endswith(ext):\n",
        "            file_path = os.path.join(path, file)\n",
        "            \n",
        "            name, digit = extract_name_digit(file)\n",
        "            \n",
        "            digit_vectors.append(digit)\n",
        "            file_vectors.append(file_path)\n",
        "    \n",
        "    \n",
        "    digits = np.array(digit_vectors)\n",
        "    digits = np.reshape(digits, (digits.shape[0], 1))\n",
        "    \n",
        "    files = np.array(file_vectors)\n",
        "    \n",
        "    return digits, files"
      ],
      "execution_count": 0,
      "outputs": []
    },
    {
      "cell_type": "code",
      "metadata": {
        "id": "CQHM9RUsdcyo",
        "colab_type": "code",
        "colab": {}
      },
      "source": [
        "\n",
        "N_PEOPLE = 4\n",
        "N_DIGITS = 10\n",
        "PEOPLE = {\"jackson\":0, \"nicolas\":1, \"theo\":2, \"other\":3}\n",
        "digits, files = wav_info_extractor(dirpath=\"recordings/\", ext=\".wav\")\n"
      ],
      "execution_count": 0,
      "outputs": []
    },
    {
      "cell_type": "code",
      "metadata": {
        "id": "pANIA-iEpFA_",
        "colab_type": "code",
        "outputId": "e0f4f217-8314-4a64-e074-a65c676ca8e2",
        "colab": {
          "base_uri": "https://localhost:8080/",
          "height": 286
        }
      },
      "source": [
        "print(\"MelSpectogram after padding\")\n",
        "#for i in range(1):\n",
        "image_name = files[1]\n",
        "waveform,sr = torchaudio.load(image_name)\n",
        "specgram = torchaudio.transforms.MelSpectrogram()(waveform)\n",
        "a = specgram.shape\n",
        "target = torch.zeros(128, 155)\n",
        "for i in range(128):\n",
        "  for j in range(specgram.shape[2]):\n",
        "    target[i][j]=specgram[0][i][j]\n",
        "plt.figure()\n",
        "p = plt.imshow(target.log2()[:,:].detach().numpy(), cmap='gray')"
      ],
      "execution_count": 17,
      "outputs": [
        {
          "output_type": "stream",
          "text": [
            "MelSpectogram after padding\n"
          ],
          "name": "stdout"
        },
        {
          "output_type": "display_data",
          "data": {
            "image/png": "[encoded data removed]",
            "text/plain": [
              "<Figure size 432x288 with 1 Axes>"
            ]
          },
          "metadata": {
            "tags": []
          }
        }
      ]
    },
    {
      "cell_type": "code",
      "metadata": {
        "id": "UEd31Ltxde3P",
        "colab_type": "code",
        "colab": {}
      },
      "source": [
        "class audioDataset(Dataset):\n",
        "    \n",
        "\n",
        "    def __init__(self, files,csv_file1, transform=None):\n",
        "        self.data_frame = files\n",
        "        self.transform = transform\n",
        "        self.digits = csv_file1\n",
        "        \n",
        "\n",
        "    def __len__(self):\n",
        "        return len(self.data_frame)\n",
        "\n",
        "    def __getitem__(self, idx):\n",
        "        img_name = self.data_frame[idx]\n",
        "        waveform, sample_rate = torchaudio.load(img_name)\n",
        "        specgram = torchaudio.transforms.MelSpectrogram()(waveform)\n",
        "        target = torch.zeros(128, 155)\n",
        "        for i in range(128):\n",
        "          for j in range(specgram.shape[2]):\n",
        "            b = specgram[0][i][j]\n",
        "            target[i][j] = b\n",
        "        label1 = self.digits[idx]\n",
        "        labels = torch.zeros(10)\n",
        "        for i in range(10):\n",
        "          if i==label1:\n",
        "            labels[i]=1\n",
        "        #specgram = specgram[ : , :100, : 15]\n",
        "        return(target, labels)\n",
        "        "
      ],
      "execution_count": 0,
      "outputs": []
    },
    {
      "cell_type": "code",
      "metadata": {
        "id": "1UqQ8P3MeUxk",
        "colab_type": "code",
        "colab": {}
      },
      "source": [
        "trainset = audioDataset(files=files,csv_file1 =digits , transform=transform)\n",
        "valset   = audioDataset(files=files,csv_file1 =digits, transform=transform)\n"
      ],
      "execution_count": 0,
      "outputs": []
    },
    {
      "cell_type": "code",
      "metadata": {
        "id": "hEbt7i-uebj8",
        "colab_type": "code",
        "colab": {}
      },
      "source": [
        "def train_valid_split(dataset, test_size = 0.20, shuffle = False, random_seed = 0):\n",
        "    length = dataset.__len__()\n",
        "    indices = list(range(1,length))\n",
        "    \n",
        "    if shuffle == True:\n",
        "        random.seed(random_seed)\n",
        "        random.shuffle(indices)\n",
        "    \n",
        "    if type(test_size) is float:\n",
        "        split = floor(test_size * length)\n",
        "    elif type(test_size) is int:\n",
        "        split = test_size\n",
        "    else:\n",
        "        raise ValueError('%s should be an int or a float' % str)\n",
        "    return indices[split:], indices[:split]"
      ],
      "execution_count": 0,
      "outputs": []
    },
    {
      "cell_type": "code",
      "metadata": {
        "id": "Hmqa4UFXee3s",
        "colab_type": "code",
        "colab": {}
      },
      "source": [
        "train_idx, valid_idx = train_valid_split(trainset, 0.20)\n",
        "#train_sampler = torch.utils.data.WeightedRandomSampler(weight, len(train_idx))\n",
        "train_sampler = SubsetRandomSampler(train_idx)\n",
        "valid_sampler = SubsetRandomSampler(valid_idx)\n",
        "train_loader = DataLoader(dataset=trainset,sampler = train_sampler,batch_size=16)    \n",
        "valid_loader = DataLoader(dataset = valset,batch_size=16, sampler=valid_sampler)"
      ],
      "execution_count": 0,
      "outputs": []
    },
    {
      "cell_type": "code",
      "metadata": {
        "id": "LKZPJc8Reg8C",
        "colab_type": "code",
        "colab": {}
      },
      "source": [
        "class Net(nn.Module):\n",
        "    def __init__(self):\n",
        "        super(Net, self).__init__()\n",
        "        \n",
        "        self.conv1 = nn.Conv2d(1, 32, 2)\n",
        "        self.bn1 = nn.BatchNorm2d(32)\n",
        "        self.dp1 = nn.Dropout(0.2)\n",
        "        self.relu1 = nn.LeakyReLU()\n",
        "        \n",
        "        self.conv2 = nn.Conv2d(32, 64, 1)\n",
        "        self.bn2 = nn.BatchNorm2d(64)\n",
        "        self.dp2 = nn.Dropout(0.2)\n",
        "        self.relu2 = nn.ReLU()\n",
        "        \n",
        "        self.conv3 = nn.Conv2d(64, 64, 1)\n",
        "        self.bn3 = nn.BatchNorm2d(64)\n",
        "        self.dp3 = nn.Dropout(0.2)\n",
        "        self.relu3 = nn.ReLU()\n",
        "        \n",
        "        self.linear4 = nn.Linear(64*127*154, 256)\n",
        "        self.relu4 = nn.ReLU()\n",
        "        self.dp4 = nn.Dropout(0.2)\n",
        "        \n",
        "        self.linear5 = nn.Linear(256, 128)\n",
        "        self.relu5 = nn.ReLU()\n",
        "        self.dp5 = nn.Dropout(0.2)\n",
        "        \n",
        "        self.linear6 = nn.Linear(128 , 10)\n",
        "        self.softmax = nn.Softmax(dim=1)\n",
        "      \n",
        "\n",
        "    def forward(self, x):\n",
        "        x = self.conv1(x)\n",
        "        x = self.bn1(x)\n",
        "        x = self.dp1(x)\n",
        "        x = self.relu1(x)\n",
        "        \n",
        "        x = self.conv2(x)\n",
        "        x = self.bn2(x)\n",
        "        x = self.dp2(x)\n",
        "        x = self.relu2(x)\n",
        "        \n",
        "        x = self.conv3(x)\n",
        "        x = self.bn3(x)\n",
        "        x = self.dp3(x)\n",
        "        x = self.relu3(x)\n",
        "        \n",
        "        x = x.view(-1, 64*127*154)\n",
        "        x = self.linear4(x)\n",
        "        x = self.relu4(x)\n",
        "        x = self.dp4(x)\n",
        "        \n",
        "        x = self.linear5(x)\n",
        "        x = self.relu5(x)\n",
        "        x = self.dp5(x)\n",
        "        \n",
        "        x = self.linear6(x)\n",
        "        x = self.softmax(x)\n",
        "        \n",
        "        return x"
      ],
      "execution_count": 0,
      "outputs": []
    },
    {
      "cell_type": "code",
      "metadata": {
        "id": "t5v8j1Baejoz",
        "colab_type": "code",
        "colab": {
          "base_uri": "https://localhost:8080/",
          "height": 407
        },
        "outputId": "e2eef5ba-9ff6-4b82-d341-4426898a79cf"
      },
      "source": [
        "net = Net()\n",
        "net.cuda()"
      ],
      "execution_count": 35,
      "outputs": [
        {
          "output_type": "execute_result",
          "data": {
            "text/plain": [
              "Net(\n",
              "  (conv1): Conv2d(1, 32, kernel_size=(2, 2), stride=(1, 1))\n",
              "  (bn1): BatchNorm2d(32, eps=1e-05, momentum=0.1, affine=True, track_running_stats=True)\n",
              "  (dp1): Dropout(p=0.2, inplace=False)\n",
              "  (relu1): LeakyReLU(negative_slope=0.01)\n",
              "  (conv2): Conv2d(32, 64, kernel_size=(1, 1), stride=(1, 1))\n",
              "  (bn2): BatchNorm2d(64, eps=1e-05, momentum=0.1, affine=True, track_running_stats=True)\n",
              "  (dp2): Dropout(p=0.2, inplace=False)\n",
              "  (relu2): ReLU()\n",
              "  (conv3): Conv2d(64, 64, kernel_size=(1, 1), stride=(1, 1))\n",
              "  (bn3): BatchNorm2d(64, eps=1e-05, momentum=0.1, affine=True, track_running_stats=True)\n",
              "  (dp3): Dropout(p=0.2, inplace=False)\n",
              "  (relu3): ReLU()\n",
              "  (linear4): Linear(in_features=1251712, out_features=256, bias=True)\n",
              "  (relu4): ReLU()\n",
              "  (dp4): Dropout(p=0.2, inplace=False)\n",
              "  (linear5): Linear(in_features=256, out_features=128, bias=True)\n",
              "  (relu5): ReLU()\n",
              "  (dp5): Dropout(p=0.2, inplace=False)\n",
              "  (linear6): Linear(in_features=128, out_features=10, bias=True)\n",
              "  (softmax): Softmax(dim=1)\n",
              ")"
            ]
          },
          "metadata": {
            "tags": []
          },
          "execution_count": 35
        }
      ]
    },
    {
      "cell_type": "code",
      "metadata": {
        "id": "nLUhBv6UeudJ",
        "colab_type": "code",
        "colab": {}
      },
      "source": [
        "import torch.optim as optim\n",
        "\n",
        "criterion = nn.CrossEntropyLoss()\n",
        "optimizer = optim.Adadelta(net.parameters(), lr=0.007)"
      ],
      "execution_count": 0,
      "outputs": []
    },
    {
      "cell_type": "code",
      "metadata": {
        "id": "Fdh7gB0AfNsr",
        "colab_type": "code",
        "outputId": "19c81402-8dac-45a7-9f9f-9b5cde8d56fc",
        "colab": {
          "base_uri": "https://localhost:8080/",
          "height": 656
        }
      },
      "source": [
        "\n",
        "for epoch in range(10):  # loop over the dataset multiple times\n",
        "  \n",
        "    net.train()\n",
        "    valid_losses=[]\n",
        "    \n",
        "    for i,(inputs, labels) in enumerate(train_loader):\n",
        "        \n",
        "        \n",
        "        inputs = inputs.unsqueeze(1)\n",
        "        labels= labels.long()\n",
        "        labels2 = torch.argmax(labels,1)\n",
        "        inputs = inputs.cuda()\n",
        "        labels2 = labels2.cuda()\n",
        "\n",
        "        optimizer.zero_grad()\n",
        "        \n",
        "\n",
        "        outputs = net(inputs)\n",
        "        loss = criterion(outputs,labels2)\n",
        "        loss.backward()\n",
        "\n",
        "        optimizer.step()\n",
        "        \n",
        "    correct =0\n",
        "    total =0\n",
        "    net.eval()\n",
        "    for inputs, labels in valid_loader:\n",
        "      inputs = inputs.unsqueeze(1)\n",
        "      labels= labels.long()\n",
        "      labels2 = torch.argmax(labels,1)\n",
        "      inputs = inputs.cuda()\n",
        "      labels2 = labels2.cuda()\n",
        "      \n",
        "      output = net(inputs)\n",
        "      loss = criterion(output,labels2)\n",
        "      valid_losses.append(loss.item())\n",
        "      \n",
        "      _, predicted = torch.max(output, 1)\n",
        "      labels2 = torch.argmax(labels,1)\n",
        "      \n",
        "      correct += (predicted.cpu() == labels2.cpu()).sum()\n",
        "      total += labels.size(0)\n",
        "      \n",
        "    valid_loss = np.average(valid_losses)\n",
        "    print(valid_loss)\n",
        "    print(correct)\n",
        "    print(total)\n",
        "    print(\"accuracy =\",(correct*100)/total)\n",
        "      \n",
        "          \n",
        "\n",
        "\n",
        "print('Finished Training')\n"
      ],
      "execution_count": 0,
      "outputs": [
        {
          "output_type": "stream",
          "text": [
            "2.226355218887329\n",
            "tensor(98)\n",
            "320\n",
            "accuracy = tensor(30)\n",
            "2.1710100889205934\n",
            "tensor(133)\n",
            "320\n",
            "accuracy = tensor(41)\n",
            "2.118089735507965\n",
            "tensor(155)\n",
            "320\n",
            "accuracy = tensor(48)\n",
            "2.0821285009384156\n",
            "tensor(164)\n",
            "320\n",
            "accuracy = tensor(51)\n",
            "2.0333098828792573\n",
            "tensor(174)\n",
            "320\n",
            "accuracy = tensor(54)\n",
            "2.0156844556331635\n",
            "tensor(176)\n",
            "320\n",
            "accuracy = tensor(55)\n",
            "1.997109407186508\n",
            "tensor(176)\n",
            "320\n",
            "accuracy = tensor(55)\n",
            "1.9734276175498962\n",
            "tensor(179)\n",
            "320\n",
            "accuracy = tensor(55)\n",
            "1.9716499984264373\n",
            "tensor(177)\n",
            "320\n",
            "accuracy = tensor(55)\n"
          ],
          "name": "stdout"
        }
      ]
    },
    {
      "cell_type": "code",
      "metadata": {
        "id": "77EiT6gMfiLQ",
        "colab_type": "code",
        "colab": {}
      },
      "source": [
        ""
      ],
      "execution_count": 0,
      "outputs": []
    },
    {
      "cell_type": "code",
      "metadata": {
        "id": "TvfMLLhNSl85",
        "colab_type": "code",
        "colab": {}
      },
      "source": [
        "\n"
      ],
      "execution_count": 0,
      "outputs": []
    }
  ]
}