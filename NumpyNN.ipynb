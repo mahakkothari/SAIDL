{
 "cells": [
  {
   "cell_type": "code",
   "execution_count": 57,
   "metadata": {},
   "outputs": [],
   "source": [
    "import numpy as np \n"
   ]
  },
  {
   "cell_type": "code",
   "execution_count": 74,
   "metadata": {},
   "outputs": [],
   "source": [
    "l1 = [0,0],[0,1],[1,0],[1,1]\n",
    "l2 = [0,0],[0,1],[1,0],[1,1]\n",
    "l3 = []\n",
    "for i in range(4):\n",
    "    for j in range(4):\n",
    "        l3.append(l1[i]+l2[j])\n",
    "        "
   ]
  },
  {
   "cell_type": "code",
   "execution_count": 75,
   "metadata": {},
   "outputs": [],
   "source": [
    "m=1\n",
    "n=1\n",
    "l4=[]\n",
    "l4 = [[0]*2 for i in range(16)]\n",
    "l5 = [[0]*2 for i in range(16)]\n",
    "for i in range(16):\n",
    "    m=1\n",
    "    n=1\n",
    "    p=0\n",
    "    q=0\n",
    "    \n",
    "    if l3[i][0]==l3[i][2]:\n",
    "        m=0\n",
    "        p=1\n",
    "    if l3[i][1]==l3[i][3]:\n",
    "        n=0\n",
    "        q=1\n",
    "    l4[i][0]=m\n",
    "    l4[i][1]=n\n",
    "    l5[i][0]=p\n",
    "    l5[i][1]=q"
   ]
  },
  {
   "cell_type": "code",
   "execution_count": 76,
   "metadata": {},
   "outputs": [
    {
     "name": "stdout",
     "output_type": "stream",
     "text": [
      "[0, 0, 0, 0] [0, 0] [1, 1]\n",
      "[0, 0, 0, 1] [0, 1] [1, 0]\n",
      "[0, 0, 1, 0] [1, 0] [0, 1]\n",
      "[0, 0, 1, 1] [1, 1] [0, 0]\n",
      "[0, 1, 0, 0] [0, 1] [1, 0]\n",
      "[0, 1, 0, 1] [0, 0] [1, 1]\n",
      "[0, 1, 1, 0] [1, 1] [0, 0]\n",
      "[0, 1, 1, 1] [1, 0] [0, 1]\n",
      "[1, 0, 0, 0] [1, 0] [0, 1]\n",
      "[1, 0, 0, 1] [1, 1] [0, 0]\n",
      "[1, 0, 1, 0] [0, 0] [1, 1]\n",
      "[1, 0, 1, 1] [0, 1] [1, 0]\n",
      "[1, 1, 0, 0] [1, 1] [0, 0]\n",
      "[1, 1, 0, 1] [1, 0] [0, 1]\n",
      "[1, 1, 1, 0] [0, 1] [1, 0]\n",
      "[1, 1, 1, 1] [0, 0] [1, 1]\n"
     ]
    }
   ],
   "source": [
    "for i in range(16):\n",
    "    print(l3[i],l4[i],l5[i])"
   ]
  },
  {
   "cell_type": "code",
   "execution_count": 77,
   "metadata": {},
   "outputs": [],
   "source": [
    "inputs = np.array(l3)\n",
    "xor_output = np.array(l4)\n",
    "xnor_output = np.array(l5)"
   ]
  },
  {
   "cell_type": "code",
   "execution_count": 78,
   "metadata": {},
   "outputs": [],
   "source": [
    "epochs = 300000\n",
    "lr = 0.1"
   ]
  },
  {
   "cell_type": "code",
   "execution_count": 79,
   "metadata": {},
   "outputs": [],
   "source": [
    "def sigmoid (x):\n",
    "    return 1/(1 + np.exp(-x))\n",
    "\n",
    "def sigmoid_derivative(x):\n",
    "    return x * (1 - x)\n"
   ]
  },
  {
   "cell_type": "code",
   "execution_count": 80,
   "metadata": {},
   "outputs": [
    {
     "name": "stdout",
     "output_type": "stream",
     "text": [
      "enter 0 for xor and 1 for xnor0\n",
      "0\n"
     ]
    }
   ],
   "source": [
    "i = int(input(\"enter 0 for xor and 1 for xnor\"))\n",
    "print(i)\n",
    "if i==0:\n",
    "    inputLayerNeurons, hiddenLayerNeurons, outputLayerNeurons = 4,4,2\n",
    "    hidden_weights = np.random.uniform(size=(inputLayerNeurons,hiddenLayerNeurons))\n",
    "    hidden_bias =np.random.uniform(size=(1,hiddenLayerNeurons))\n",
    "    output_weights = np.random.uniform(size=(hiddenLayerNeurons,outputLayerNeurons)) \n",
    "    output_bias = np.random.uniform(size=(1,outputLayerNeurons))\n",
    "    for _ in range(epochs):\n",
    "        #Forward Propagation\n",
    "        hidden_layer_activation = np.dot(inputs,hidden_weights)\n",
    "        hidden_layer_activation += hidden_bias\n",
    "        hidden_layer_output = sigmoid(hidden_layer_activation)\n",
    "        output_layer_activation = np.dot(hidden_layer_output,output_weights)\n",
    "        output_layer_activation += output_bias\n",
    "        predicted_output = sigmoid(output_layer_activation)\n",
    "\n",
    "        #Backpropagation\n",
    "        error = xor_output - predicted_output\n",
    "        d_predicted_output = error * sigmoid_derivative(predicted_output)\n",
    "        error_hidden_layer = d_predicted_output.dot(output_weights.T)\n",
    "        d_hidden_layer = error_hidden_layer * sigmoid_derivative(hidden_layer_output)\n",
    "\n",
    "        #Updating Weights and Biases\n",
    "        output_weights += hidden_layer_output.T.dot(d_predicted_output) * lr\n",
    "        output_bias += np.sum(d_predicted_output,axis=0,keepdims=True) * lr\n",
    "        hidden_weights += inputs.T.dot(d_hidden_layer) * lr\n",
    "        hidden_bias += np.sum(d_hidden_layer,axis=0,keepdims=True) * lr\n",
    "elif i==1:\n",
    "    inputLayerNeurons, hiddenLayerNeurons, outputLayerNeurons = 4,4,2\n",
    "    hidden_weights = np.random.uniform(size=(inputLayerNeurons,hiddenLayerNeurons))\n",
    "    hidden_bias =np.random.uniform(size=(1,hiddenLayerNeurons))\n",
    "    output_weights = np.random.uniform(size=(hiddenLayerNeurons,outputLayerNeurons)) \n",
    "    output_bias = np.random.uniform(size=(1,outputLayerNeurons))\n",
    "    for _ in range(epochs):\n",
    "        #Forward Propagation\n",
    "        hidden_layer_activation = np.dot(inputs,hidden_weights)\n",
    "        hidden_layer_activation += hidden_bias\n",
    "        hidden_layer_output = sigmoid(hidden_layer_activation)\n",
    "\n",
    "        output_layer_activation = np.dot(hidden_layer_output,output_weights)\n",
    "        output_layer_activation += output_bias\n",
    "        predicted_output = sigmoid(output_layer_activation)\n",
    "\n",
    "        #Backpropagation\n",
    "        error = xnor_output - predicted_output\n",
    "        d_predicted_output = error * sigmoid_derivative(predicted_output)\n",
    "        error_hidden_layer = d_predicted_output.dot(output_weights.T)\n",
    "        d_hidden_layer = error_hidden_layer * sigmoid_derivative(hidden_layer_output)\n",
    "\n",
    "        #Updating Weights and Biases\n",
    "        output_weights += hidden_layer_output.T.dot(d_predicted_output) * lr\n",
    "        output_bias += np.sum(d_predicted_output,axis=0,keepdims=True) * lr\n",
    "        hidden_weights += inputs.T.dot(d_hidden_layer) * lr\n",
    "        hidden_bias += np.sum(d_hidden_layer,axis=0,keepdims=True) * lr\n",
    "else:\n",
    "    print(\"enter only 0 or 1\")\n"
   ]
  },
  {
   "cell_type": "code",
   "execution_count": 81,
   "metadata": {},
   "outputs": [
    {
     "name": "stdout",
     "output_type": "stream",
     "text": [
      "Final hidden weights: [-0.123084   -0.33989527  7.68488542  5.62528373] [ 7.44913426  5.61584874 -0.05119965 -0.38196361] [-0.11724019 -0.3390029   7.69708022  5.62759537] [ 7.43271572  5.61211297 -0.05297735 -0.38205757]\n",
      "Final hidden bias: [-3.25873598 -8.2390121  -3.45806253 -8.20983974]\n",
      "Final output weights: [-0.37243412 12.79542212] [ -0.20500639 -13.4013924 ] [12.70733188 -0.32038723] [-13.36100694  -0.15781472]\n",
      "Final output bias: [-5.70526662 -5.81611923]\n",
      "\n",
      "Output from neural network after 30,000 epochs: [0.00479779 0.00469819] [0.00326949 0.99719184] [0.99718483 0.00326048] [0.99692088 0.99692622] [0.00327111 0.99719168] [0.00266749 0.00305241] [0.9969213  0.99692971] [0.99693142 0.00284729] [0.99718455 0.00325301] [0.99691837 0.99692431] [0.00313558 0.00269536] [0.0028463  0.99695662] [0.99691881 0.99692787] [0.99692716 0.00284959] [0.00284568 0.99696333] [0.00341197 0.00341652]\n"
     ]
    }
   ],
   "source": [
    "print(\"Final hidden weights: \",end='')\n",
    "print(*hidden_weights)\n",
    "print(\"Final hidden bias: \",end='')\n",
    "print(*hidden_bias)\n",
    "print(\"Final output weights: \",end='')\n",
    "print(*output_weights)\n",
    "print(\"Final output bias: \",end='')\n",
    "print(*output_bias)\n",
    "\n",
    "print(\"\\nOutput from neural network after 30,000 epochs: \",end='')\n",
    "print(*predicted_output)"
   ]
  },
  {
   "cell_type": "code",
   "execution_count": null,
   "metadata": {},
   "outputs": [],
   "source": []
  }
 ],
 "metadata": {
  "kernelspec": {
   "display_name": "Python 3",
   "language": "python",
   "name": "python3"
  },
  "language_info": {
   "codemirror_mode": {
    "name": "ipython",
    "version": 3
   },
   "file_extension": ".py",
   "mimetype": "text/x-python",
   "name": "python",
   "nbconvert_exporter": "python",
   "pygments_lexer": "ipython3",
   "version": "3.6.8"
  }
 },
 "nbformat": 4,
 "nbformat_minor": 2
}
