{
  "nbformat": 4,
  "nbformat_minor": 0,
  "metadata": {
    "kernelspec": {
      "name": "python3",
      "display_name": "Python 3"
    },
    "language_info": {
      "codemirror_mode": {
        "name": "ipython",
        "version": 3
      },
      "file_extension": ".py",
      "mimetype": "text/x-python",
      "name": "python",
      "nbconvert_exporter": "python",
      "pygments_lexer": "ipython3",
      "version": "3.6.8"
    },
    "colab": {
      "name": "audiodata.ipynb",
      "version": "0.3.2",
      "provenance": [],
      "collapsed_sections": []
    },
    "accelerator": "GPU"
  },
  "cells": [
    {
      "cell_type": "code",
      "metadata": {
        "id": "yuYVHl4UkSUd",
        "colab_type": "code",
        "outputId": "1ad91762-5ed8-4479-bbbe-0ae7e359f61e",
        "colab": {
          "base_uri": "https://localhost:8080/",
          "height": 125
        }
      },
      "source": [
        "from google.colab import drive\n",
        "drive.mount('/content/drive')"
      ],
      "execution_count": 6,
      "outputs": [
        {
          "output_type": "stream",
          "text": [
            "Go to this URL in a browser: https://accounts.google.com/o/oauth2/auth?client_id=947318989803-6bn6qk8qdgf4n4g3pfee6491hc0brc4i.apps.googleusercontent.com&redirect_uri=urn%3Aietf%3Awg%3Aoauth%3A2.0%3Aoob&scope=email%20https%3A%2F%2Fwww.googleapis.com%2Fauth%2Fdocs.test%20https%3A%2F%2Fwww.googleapis.com%2Fauth%2Fdrive%20https%3A%2F%2Fwww.googleapis.com%2Fauth%2Fdrive.photos.readonly%20https%3A%2F%2Fwww.googleapis.com%2Fauth%2Fpeopleapi.readonly&response_type=code\n",
            "\n",
            "Enter your authorization code:\n",
            "··········\n",
            "Mounted at /content/drive\n"
          ],
          "name": "stdout"
        }
      ]
    },
    {
      "cell_type": "code",
      "metadata": {
        "id": "o4hGeRUYkSUU",
        "colab_type": "code",
        "colab": {}
      },
      "source": [
        "import pandas as pd\n",
        "import numpy as np\n",
        "import os\n",
        "import torch\n",
        "import torchvision\n",
        "from torch.utils.data import DataLoader\n",
        "from torchvision import transforms\n",
        "from torch.utils.data import Dataset,SubsetRandomSampler,Sampler\n",
        "import matplotlib.pyplot as plt\n",
        "from torch import nn\n",
        "import torch.nn.functional as F\n",
        "from torch import optim\n",
        "import glob\n",
        "from skimage import io, transform\n",
        "from PIL import Image\n",
        "import random\n",
        "import PIL.ImageEnhance as ie\n",
        "import copy\n",
        "from torch.autograd import Variable\n",
        "import PIL.Image as im\n",
        "from math import floor\n",
        "%matplotlib inline \n",
        "import librosa\n"
      ],
      "execution_count": 0,
      "outputs": []
    },
    {
      "cell_type": "code",
      "metadata": {
        "id": "ySBnMadRL2Ft",
        "colab_type": "code",
        "colab": {}
      },
      "source": [
        "import os\n",
        "import librosa\n",
        "import numpy as np\n",
        "import pandas as pd \n",
        "import warnings\n",
        "warnings.filterwarnings(\"ignore\")\n",
        "\n",
        "N_PEOPLE = 4\n",
        "N_DIGITS = 10\n",
        "PEOPLE = {\"jackson\":0, \"nicolas\":1, \"theo\":2, \"other\":3}"
      ],
      "execution_count": 0,
      "outputs": []
    },
    {
      "cell_type": "code",
      "metadata": {
        "id": "ymfVUUN-L2mT",
        "colab_type": "code",
        "colab": {}
      },
      "source": [
        "files2 = pd.read_csv(\"../content/drive/My Drive/winter_assignment/audio-mnist-with-person-detection-master/files2.csv\")"
      ],
      "execution_count": 0,
      "outputs": []
    },
    {
      "cell_type": "code",
      "metadata": {
        "id": "f5Ao-gOzy0kL",
        "colab_type": "code",
        "colab": {}
      },
      "source": [
        "#os.listdir(\"../content/drive/My Drive/winter_assignment/audio-mnist-with-person-detection-master\")"
      ],
      "execution_count": 0,
      "outputs": []
    },
    {
      "cell_type": "code",
      "metadata": {
        "id": "PxJXLtQTWm5X",
        "colab_type": "code",
        "colab": {}
      },
      "source": [
        "speakers = pd.read_csv(\"../content/drive/My Drive/winter_assignment/audio-mnist-with-person-detection-master/names.csv\")\n",
        "digits = pd.read_csv(\"../content/drive/My Drive/winter_assignment/audio-mnist-with-person-detection-master/digits.csv\")"
      ],
      "execution_count": 0,
      "outputs": []
    },
    {
      "cell_type": "code",
      "metadata": {
        "id": "EQtaH8yGLAIF",
        "colab_type": "code",
        "outputId": "e192e3e7-bb06-4213-f7ae-411b2f1e3753",
        "colab": {
          "base_uri": "https://localhost:8080/",
          "height": 34
        }
      },
      "source": [
        "a = (files2['0'])\n",
        "print(a[5])\n",
        "#b = files2.values.tolist()\n",
        "#print(type(b))\n",
        "#print(b[0])\n",
        "#y,sr = librosa.load(b[0])"
      ],
      "execution_count": 6,
      "outputs": [
        {
          "output_type": "stream",
          "text": [
            "./drive/My Drive/winter_assignment/audio-mnist-with-person-detection-master/recordings/9_theo_30.wav\n"
          ],
          "name": "stdout"
        }
      ]
    },
    {
      "cell_type": "code",
      "metadata": {
        "id": "8gvpTFme8a6P",
        "colab_type": "code",
        "colab": {
          "base_uri": "https://localhost:8080/",
          "height": 34
        },
        "outputId": "3582e23c-1e6e-4aad-e829-ede46e295469"
      },
      "source": [
        "print(speakers['0'][7])"
      ],
      "execution_count": 7,
      "outputs": [
        {
          "output_type": "stream",
          "text": [
            "nicolas\n"
          ],
          "name": "stdout"
        }
      ]
    },
    {
      "cell_type": "code",
      "metadata": {
        "id": "phBH_ijp8bSo",
        "colab_type": "code",
        "colab": {
          "base_uri": "https://localhost:8080/",
          "height": 34
        },
        "outputId": "9fc95a59-6a6e-4616-9caa-2fe0d933818b"
      },
      "source": [
        "print(digits['0'][8])"
      ],
      "execution_count": 8,
      "outputs": [
        {
          "output_type": "stream",
          "text": [
            "4\n"
          ],
          "name": "stdout"
        }
      ]
    },
    {
      "cell_type": "code",
      "metadata": {
        "id": "O9iLz0mpLAlf",
        "colab_type": "code",
        "outputId": "b7de9cd4-adf1-4960-f848-629dee15a29f",
        "colab": {
          "base_uri": "https://localhost:8080/",
          "height": 54
        }
      },
      "source": [
        "'''a = files2['0']\n",
        "#print(a[50])\n",
        "y,sr = librosa.load(a[25])             \n",
        "image = librosa.feature.melspectrogram(y,sr)\n",
        "#for i in range(55):\n",
        "  #print(a[i])\n",
        "#image = torch.tensor(image)\n",
        "#print(image.shape)\n",
        "img = Image.fromarray(image)\n",
        "print(img)\n",
        "#print(img.size)\n",
        "img = transform(img)\n",
        "print(\"---\"*51)\n",
        "print(img.shape)\n",
        "print(\"---\"*51)\n",
        "\n",
        "\n",
        "#plt.figure(figsize=(20, 20))\n",
        "#plt.imshow(img)\n",
        "#plt.imshow(image)\n",
        "#outputs1 = net(img)\n",
        "#loss = criterion(outputs, labels1)\n",
        "inputs = img\n",
        "inputs = inputs.unsqueeze(0)\n",
        "inputs = inputs.cuda()\n",
        "outputs = net(inputs)\n",
        "target = np.array(digits['0'][25])\n",
        "list1 =[]\n",
        "list1.append(target)\n",
        "print(list1)\n",
        "target = np.array(list1)\n",
        "print(target)\n",
        "\n",
        "print(target)\n",
        "target = torch.tensor(target)\n",
        "target = target.cuda()\n",
        "print(target.shape)\n",
        "loss = criterion(outputs,target)\n",
        "print(loss)'''"
      ],
      "execution_count": 1,
      "outputs": [
        {
          "output_type": "execute_result",
          "data": {
            "text/plain": [
              "'a = files2[\\'0\\']\\n#print(a[50])\\ny,sr = librosa.load(a[25])             \\nimage = librosa.feature.melspectrogram(y,sr)\\n#for i in range(55):\\n  #print(a[i])\\n#image = torch.tensor(image)\\n#print(image.shape)\\nimg = Image.fromarray(image)\\nprint(img)\\n#print(img.size)\\nimg = transform(img)\\nprint(\"---\"*51)\\nprint(img.shape)\\nprint(\"---\"*51)\\n\\n\\n#plt.figure(figsize=(20, 20))\\n#plt.imshow(img)\\n#plt.imshow(image)\\n#outputs1 = net(img)\\n#loss = criterion(outputs, labels1)\\ninputs = img\\ninputs = inputs.unsqueeze(0)\\ninputs = inputs.cuda()\\noutputs = net(inputs)\\ntarget = np.array(digits[\\'0\\'][25])\\nlist1 =[]\\nlist1.append(target)\\nprint(list1)\\ntarget = np.array(list1)\\nprint(target)\\n\\nprint(target)\\ntarget = torch.tensor(target)\\ntarget = target.cuda()\\nprint(target.shape)\\nloss = criterion(outputs,target)\\nprint(loss)'"
            ]
          },
          "metadata": {
            "tags": []
          },
          "execution_count": 1
        }
      ]
    },
    {
      "cell_type": "code",
      "metadata": {
        "id": "_63_KCIRnm54",
        "colab_type": "code",
        "colab": {}
      },
      "source": [
        "print(digits['0'][25])"
      ],
      "execution_count": 0,
      "outputs": []
    },
    {
      "cell_type": "code",
      "metadata": {
        "id": "pzTPjQKLkSUn",
        "colab_type": "code",
        "colab": {
          "base_uri": "https://localhost:8080/",
          "height": 240
        },
        "outputId": "929d0b4f-aa03-4dab-fe8f-7692ca656c37"
      },
      "source": [
        "\n",
        "class audioDataset(Dataset):\n",
        "    \n",
        "\n",
        "    def __init__(self, file2,csv_file1, transform=None):\n",
        "        \"\"\"\n",
        "        Args:\n",
        "            csv_file (string): Path to the csv file with labels.\n",
        "            root_dir (string): Directory with all the images.\n",
        "            transform (callable, optional): Optional transform to be applied\n",
        "                on a sample.\n",
        "        \"\"\"\n",
        "        self.data_frame = files2['0']\n",
        "        self.transform = transform\n",
        "        self.digits = pd.read_csv(csv_file1)\n",
        "        \n",
        "\n",
        "    def __len__(self):\n",
        "        return len(self.data_frame)\n",
        "\n",
        "    def __getitem__(self, idx):\n",
        "        img_name = self.data_frame[idx] \n",
        "        y,sr = librosa.load(img_name)             \n",
        "        image = librosa.feature.melspectrogram(y,sr)\n",
        "        image = Image.fromarray(image)   \n",
        "        label1 = np.array(self.digits['0'][idx])                         \n",
        "        \n",
        "        \n",
        "        if self.transform:            \n",
        "            image = self.transform(image)                                          # applying transforms, if any\n",
        "        sample = (image,label1)\n",
        "        \n",
        "        return (sample)"
      ],
      "execution_count": 2,
      "outputs": [
        {
          "output_type": "error",
          "ename": "NameError",
          "evalue": "ignored",
          "traceback": [
            "\u001b[0;31m---------------------------------------------------------------------------\u001b[0m",
            "\u001b[0;31mNameError\u001b[0m                                 Traceback (most recent call last)",
            "\u001b[0;32m<ipython-input-2-b3d1562b6e51>\u001b[0m in \u001b[0;36m<module>\u001b[0;34m()\u001b[0m\n\u001b[1;32m      1\u001b[0m \u001b[0;34m\u001b[0m\u001b[0m\n\u001b[0;32m----> 2\u001b[0;31m \u001b[0;32mclass\u001b[0m \u001b[0maudioDataset\u001b[0m\u001b[0;34m(\u001b[0m\u001b[0mDataset\u001b[0m\u001b[0;34m)\u001b[0m\u001b[0;34m:\u001b[0m\u001b[0;34m\u001b[0m\u001b[0;34m\u001b[0m\u001b[0m\n\u001b[0m\u001b[1;32m      3\u001b[0m \u001b[0;34m\u001b[0m\u001b[0m\n\u001b[1;32m      4\u001b[0m \u001b[0;34m\u001b[0m\u001b[0m\n\u001b[1;32m      5\u001b[0m     \u001b[0;32mdef\u001b[0m \u001b[0m__init__\u001b[0m\u001b[0;34m(\u001b[0m\u001b[0mself\u001b[0m\u001b[0;34m,\u001b[0m \u001b[0mfile2\u001b[0m\u001b[0;34m,\u001b[0m\u001b[0mcsv_file1\u001b[0m\u001b[0;34m,\u001b[0m \u001b[0mtransform\u001b[0m\u001b[0;34m=\u001b[0m\u001b[0;32mNone\u001b[0m\u001b[0;34m)\u001b[0m\u001b[0;34m:\u001b[0m\u001b[0;34m\u001b[0m\u001b[0;34m\u001b[0m\u001b[0m\n",
            "\u001b[0;31mNameError\u001b[0m: name 'Dataset' is not defined"
          ]
        }
      ]
    },
    {
      "cell_type": "code",
      "metadata": {
        "id": "tBMlLwx85DVW",
        "colab_type": "code",
        "colab": {}
      },
      "source": [
        ""
      ],
      "execution_count": 0,
      "outputs": []
    },
    {
      "cell_type": "code",
      "metadata": {
        "id": "zQ_emEJqZUph",
        "colab_type": "code",
        "colab": {}
      },
      "source": [
        "transform = transforms.Compose([\n",
        "        transforms.CenterCrop(224),\n",
        "        transforms.ToTensor()])"
      ],
      "execution_count": 0,
      "outputs": []
    },
    {
      "cell_type": "code",
      "metadata": {
        "id": "Uaar-qcVZVNj",
        "colab_type": "code",
        "colab": {}
      },
      "source": [
        "trainset = audioDataset(file2=files2,csv_file1 =\"../content/drive/My Drive/winter_assignment/audio-mnist-with-person-detection-master/digits.csv\" , transform=transform)\n",
        "valset   = audioDataset(file2=files2,csv_file1 =\"../content/drive/My Drive/winter_assignment/audio-mnist-with-person-detection-master/digits.csv\" , transform=transform)\n"
      ],
      "execution_count": 0,
      "outputs": []
    },
    {
      "cell_type": "code",
      "metadata": {
        "id": "s_TANtNbeWnh",
        "colab_type": "code",
        "colab": {}
      },
      "source": [
        "def train_valid_split(dataset, test_size = 0.20, shuffle = False, random_seed = 0):\n",
        "    length = dataset.__len__()\n",
        "    indices = list(range(1,length))\n",
        "    \n",
        "    if shuffle == True:\n",
        "        random.seed(random_seed)\n",
        "        random.shuffle(indices)\n",
        "    \n",
        "    if type(test_size) is float:\n",
        "        split = floor(test_size * length)\n",
        "    elif type(test_size) is int:\n",
        "        split = test_size\n",
        "    else:\n",
        "        raise ValueError('%s should be an int or a float' % str)\n",
        "    return indices[split:], indices[:split]"
      ],
      "execution_count": 0,
      "outputs": []
    },
    {
      "cell_type": "code",
      "metadata": {
        "id": "iP4pYSI3ZVsZ",
        "colab_type": "code",
        "colab": {}
      },
      "source": [
        "train_idx, valid_idx = train_valid_split(trainset, 0.20)\n",
        "#train_sampler = torch.utils.data.WeightedRandomSampler(weight, len(train_idx))\n",
        "train_sampler = SubsetRandomSampler(train_idx)\n",
        "valid_sampler = SubsetRandomSampler(valid_idx)\n",
        "train_loader = DataLoader(dataset=trainset,sampler = train_sampler,batch_size=5)    \n",
        "#valid_loader = DataLoader(valset,batch_size=50,sampler=valid_sampler,num_workers=4)"
      ],
      "execution_count": 0,
      "outputs": []
    },
    {
      "cell_type": "code",
      "metadata": {
        "id": "oMvZ_1QdeW_I",
        "colab_type": "code",
        "outputId": "9a8f1d09-de98-4cc9-e090-77b4475acb4c",
        "colab": {
          "base_uri": "https://localhost:8080/",
          "height": 34
        }
      },
      "source": [
        "print(len(trainset))"
      ],
      "execution_count": 38,
      "outputs": [
        {
          "output_type": "stream",
          "text": [
            "1600\n"
          ],
          "name": "stdout"
        }
      ]
    },
    {
      "cell_type": "code",
      "metadata": {
        "id": "_PwzqZTJeXTC",
        "colab_type": "code",
        "colab": {}
      },
      "source": [
        ""
      ],
      "execution_count": 0,
      "outputs": []
    },
    {
      "cell_type": "code",
      "metadata": {
        "id": "vsYZCem9eXln",
        "colab_type": "code",
        "colab": {}
      },
      "source": [
        ""
      ],
      "execution_count": 0,
      "outputs": []
    },
    {
      "cell_type": "code",
      "metadata": {
        "id": "UnGnol7RkSUq",
        "colab_type": "code",
        "colab": {}
      },
      "source": [
        "class Net(nn.Module):\n",
        "    def __init__(self):\n",
        "        super(Net, self).__init__()\n",
        "        self.conv1 = nn.Conv2d(1, 6, 5)\n",
        "        self.pool = nn.MaxPool2d(2, 2)\n",
        "        self.conv2 = nn.Conv2d(6, 16, 5)\n",
        "        self.relu = nn.ReLU()\n",
        "        self.sigmoid = nn.Sigmoid()\n",
        "        self.fc1 = nn.Linear(16 * 53 * 53, 120)\n",
        "        self.fc2 = nn.Linear(120, 84)\n",
        "        self.fc3 = nn.Linear(84, 10)\n",
        "\n",
        "    def forward(self, x):\n",
        "        x = self.pool(F.relu(self.conv1(x)))\n",
        "        x = self.relu(x)\n",
        "        x = self.pool(F.relu(self.conv2(x)))\n",
        "        x = self.sigmoid(x)\n",
        "        x = x.view(-1, 16 * 53 * 53)\n",
        "        x = self.fc1(x)\n",
        "        x = self.relu(x)\n",
        "        x = F.relu(self.fc2(x))\n",
        "        x = self.fc3(x)\n",
        "        return x"
      ],
      "execution_count": 0,
      "outputs": []
    },
    {
      "cell_type": "code",
      "metadata": {
        "id": "Dps7vckdkSUt",
        "colab_type": "code",
        "outputId": "d33a1c73-98a0-42ea-b55c-a6bf4fde46c0",
        "colab": {
          "base_uri": "https://localhost:8080/",
          "height": 194
        }
      },
      "source": [
        "net = Net()\n",
        "net.cuda()"
      ],
      "execution_count": 14,
      "outputs": [
        {
          "output_type": "execute_result",
          "data": {
            "text/plain": [
              "Net(\n",
              "  (conv1): Conv2d(1, 6, kernel_size=(5, 5), stride=(1, 1))\n",
              "  (pool): MaxPool2d(kernel_size=2, stride=2, padding=0, dilation=1, ceil_mode=False)\n",
              "  (conv2): Conv2d(6, 16, kernel_size=(5, 5), stride=(1, 1))\n",
              "  (relu): ReLU()\n",
              "  (sigmoid): Sigmoid()\n",
              "  (fc1): Linear(in_features=44944, out_features=120, bias=True)\n",
              "  (fc2): Linear(in_features=120, out_features=84, bias=True)\n",
              "  (fc3): Linear(in_features=84, out_features=10, bias=True)\n",
              ")"
            ]
          },
          "metadata": {
            "tags": []
          },
          "execution_count": 14
        }
      ]
    },
    {
      "cell_type": "code",
      "metadata": {
        "id": "vVgJI8YgVBiZ",
        "colab_type": "code",
        "colab": {}
      },
      "source": [
        "import torch.optim as optim\n",
        "\n",
        "criterion = nn.CrossEntropyLoss()\n",
        "optimizer = optim.SGD(net.parameters(), lr=0.004, momentum=0.9)"
      ],
      "execution_count": 0,
      "outputs": []
    },
    {
      "cell_type": "code",
      "metadata": {
        "id": "AxZycp-sVuBd",
        "colab_type": "code",
        "colab": {}
      },
      "source": [
        ""
      ],
      "execution_count": 0,
      "outputs": []
    },
    {
      "cell_type": "code",
      "metadata": {
        "id": "insPiVhDkSUx",
        "colab_type": "code",
        "colab": {}
      },
      "source": [
        "for i in train_loader:\n",
        "  pass\n"
      ],
      "execution_count": 0,
      "outputs": []
    },
    {
      "cell_type": "code",
      "metadata": {
        "id": "VeSc2qdjkSU1",
        "colab_type": "code",
        "colab": {
          "base_uri": "https://localhost:8080/",
          "height": 141
        },
        "outputId": "f444b6ce-fae2-43b8-ef13-07f7e88f2ca9"
      },
      "source": [
        "  print(i)"
      ],
      "execution_count": 45,
      "outputs": [
        {
          "output_type": "stream",
          "text": [
            "(tensor([[[0., 0., 0.,  ..., 0., 0., 0.],\n",
            "         [0., 0., 0.,  ..., 0., 0., 0.],\n",
            "         [0., 0., 0.,  ..., 0., 0., 0.],\n",
            "         ...,\n",
            "         [0., 0., 0.,  ..., 0., 0., 0.],\n",
            "         [0., 0., 0.,  ..., 0., 0., 0.],\n",
            "         [0., 0., 0.,  ..., 0., 0., 0.]]]), array('jackson', dtype='<U7'), array(7))\n"
          ],
          "name": "stdout"
        }
      ]
    },
    {
      "cell_type": "code",
      "metadata": {
        "scrolled": false,
        "id": "WUVutAjIkSU3",
        "colab_type": "code",
        "outputId": "94be960a-77f4-4d75-9e08-f3423900b44f",
        "colab": {
          "base_uri": "https://localhost:8080/",
          "height": 52
        }
      },
      "source": [
        "for epoch in range(10):  # loop over the dataset multiple times\n",
        "\n",
        "    running_loss = 0.0\n",
        "    for i,(inputs, labels) in enumerate(trainset):\n",
        "        # get the inputs; data is a list of [inputs, labels]\n",
        "        inputs = inputs.unsqueeze(0)\n",
        "        inputs = inputs.cuda()\n",
        "        list1 =[]\n",
        "        list1.append(labels)\n",
        "        labels = np.array(list1)\n",
        "        labels = torch.tensor(labels)\n",
        "        labels = labels.cuda()\n",
        "        \n",
        "\n",
        "        # zero the parameter gradients\n",
        "        optimizer.zero_grad()\n",
        "\n",
        "        # forward + backward + optimize\n",
        "        outputs = net(inputs)\n",
        "        loss = criterion(outputs, labels)\n",
        "        loss.backward()\n",
        "        optimizer.step()\n",
        "        if i==1599:\n",
        "          break\n",
        "        # print statistics\n",
        "        #running_loss += loss.item()\n",
        "        #if i % 2000 == 1999:    # print every 2000 mini-batches\n",
        "            #print('[%d, %5d] loss: %.3f' %\n",
        "                  #(epoch + 1, i + 1, running_loss / 2000))\n",
        "            #running_loss = 0.0\n",
        "    print(loss)\n",
        "\n",
        "print('Finished Training')\n"
      ],
      "execution_count": 0,
      "outputs": [
        {
          "output_type": "stream",
          "text": [
            "tensor(2.4646, device='cuda:0', grad_fn=<NllLossBackward>)\n",
            "tensor(2.4650, device='cuda:0', grad_fn=<NllLossBackward>)\n"
          ],
          "name": "stdout"
        }
      ]
    },
    {
      "cell_type": "code",
      "metadata": {
        "id": "zWi0DOlZkSU7",
        "colab_type": "code",
        "colab": {}
      },
      "source": [
        ""
      ],
      "execution_count": 0,
      "outputs": []
    },
    {
      "cell_type": "code",
      "metadata": {
        "id": "HOZ4XmW97r_8",
        "colab_type": "code",
        "colab": {}
      },
      "source": [
        ""
      ],
      "execution_count": 0,
      "outputs": []
    },
    {
      "cell_type": "code",
      "metadata": {
        "id": "vcR5nw9m7xr3",
        "colab_type": "code",
        "colab": {}
      },
      "source": [
        ""
      ],
      "execution_count": 0,
      "outputs": []
    },
    {
      "cell_type": "code",
      "metadata": {
        "id": "y2pGH3Qm8hNT",
        "colab_type": "code",
        "colab": {}
      },
      "source": [
        ""
      ],
      "execution_count": 0,
      "outputs": []
    }
  ]
}